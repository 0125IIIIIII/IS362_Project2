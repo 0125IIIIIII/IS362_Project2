{
 "cells": [
  {
   "cell_type": "markdown",
   "id": "50a5c777",
   "metadata": {},
   "source": [
    "#  Population Estimates (1950–1980): Tidy data analysis.\n",
    "This notebook analyzes population estimates from 1950 to 1980 using data from Wikipedia. The original dataset is in a wide format, with each year as a separate column. It has been reshaped into a tidy format to enable filtering, grouping, and visualization of population trends."
   ]
  },
  {
   "cell_type": "markdown",
   "id": "0e04a544",
   "metadata": {},
   "source": [
    "Step 1: Import pandas using sample data from the Wikipedia table, create wide format dataframe, and save in csv format."
   ]
  },
  {
   "cell_type": "code",
   "execution_count": 2,
   "id": "87739f88",
   "metadata": {},
   "outputs": [
    {
     "data": {
      "text/html": [
       "<div>\n",
       "<style scoped>\n",
       "    .dataframe tbody tr th:only-of-type {\n",
       "        vertical-align: middle;\n",
       "    }\n",
       "\n",
       "    .dataframe tbody tr th {\n",
       "        vertical-align: top;\n",
       "    }\n",
       "\n",
       "    .dataframe thead th {\n",
       "        text-align: right;\n",
       "    }\n",
       "</style>\n",
       "<table border=\"1\" class=\"dataframe\">\n",
       "  <thead>\n",
       "    <tr style=\"text-align: right;\">\n",
       "      <th></th>\n",
       "      <th>Country</th>\n",
       "      <th>1950</th>\n",
       "      <th>1960</th>\n",
       "      <th>1970</th>\n",
       "      <th>1980</th>\n",
       "    </tr>\n",
       "  </thead>\n",
       "  <tbody>\n",
       "    <tr>\n",
       "      <th>0</th>\n",
       "      <td>Afghanistan</td>\n",
       "      <td>8151</td>\n",
       "      <td>9830</td>\n",
       "      <td>12431</td>\n",
       "      <td>15045</td>\n",
       "    </tr>\n",
       "    <tr>\n",
       "      <th>1</th>\n",
       "      <td>Albania</td>\n",
       "      <td>1228</td>\n",
       "      <td>1624</td>\n",
       "      <td>2402</td>\n",
       "      <td>2672</td>\n",
       "    </tr>\n",
       "    <tr>\n",
       "      <th>2</th>\n",
       "      <td>Algeria</td>\n",
       "      <td>8893</td>\n",
       "      <td>10910</td>\n",
       "      <td>13932</td>\n",
       "      <td>18807</td>\n",
       "    </tr>\n",
       "    <tr>\n",
       "      <th>3</th>\n",
       "      <td>Argentina</td>\n",
       "      <td>17161</td>\n",
       "      <td>20687</td>\n",
       "      <td>23999</td>\n",
       "      <td>28115</td>\n",
       "    </tr>\n",
       "    <tr>\n",
       "      <th>4</th>\n",
       "      <td>Australia</td>\n",
       "      <td>8273</td>\n",
       "      <td>10276</td>\n",
       "      <td>12507</td>\n",
       "      <td>14692</td>\n",
       "    </tr>\n",
       "  </tbody>\n",
       "</table>\n",
       "</div>"
      ],
      "text/plain": [
       "       Country   1950   1960   1970   1980\n",
       "0  Afghanistan   8151   9830  12431  15045\n",
       "1      Albania   1228   1624   2402   2672\n",
       "2      Algeria   8893  10910  13932  18807\n",
       "3    Argentina  17161  20687  23999  28115\n",
       "4    Australia   8273  10276  12507  14692"
      ]
     },
     "execution_count": 2,
     "metadata": {},
     "output_type": "execute_result"
    }
   ],
   "source": [
    ">>> import pandas as pd\n",
    "data = {\n",
    "    'Country': ['Afghanistan', 'Albania', 'Algeria', 'Argentina', 'Australia'],\n",
    "    '1950': [8151, 1228, 8893, 17161, 8273],\n",
    "    '1960': [9830, 1624, 10910, 20687, 10276],\n",
    "    '1970': [12431, 2402, 13932, 23999, 12507],\n",
    "    '1980': [15045, 2672, 18807, 28115, 14692]\n",
    "}\n",
    "df_wide = pd.DataFrame(data)\n",
    "df_wide.to_csv('population_estimates_wide.csv', index=False)\n",
    "df_wide"
   ]
  },
  {
   "cell_type": "markdown",
   "id": "820c0f1d",
   "metadata": {},
   "source": [
    "Data cleanup and transformation. The original dataset is in a wide format, with each year as a column, thus using pandas.melt() to reshape the data into a tidy format with three columns: Country, Year, and Population"
   ]
  },
  {
   "cell_type": "markdown",
   "id": "4633b065",
   "metadata": {},
   "source": [
    "Step 2: Melt the wide-format DataFrame into long format, and convert year to integer and population to thousands"
   ]
  },
  {
   "cell_type": "code",
   "execution_count": 3,
   "id": "358faba9",
   "metadata": {},
   "outputs": [
    {
     "data": {
      "text/html": [
       "<div>\n",
       "<style scoped>\n",
       "    .dataframe tbody tr th:only-of-type {\n",
       "        vertical-align: middle;\n",
       "    }\n",
       "\n",
       "    .dataframe tbody tr th {\n",
       "        vertical-align: top;\n",
       "    }\n",
       "\n",
       "    .dataframe thead th {\n",
       "        text-align: right;\n",
       "    }\n",
       "</style>\n",
       "<table border=\"1\" class=\"dataframe\">\n",
       "  <thead>\n",
       "    <tr style=\"text-align: right;\">\n",
       "      <th></th>\n",
       "      <th>Country</th>\n",
       "      <th>Year</th>\n",
       "      <th>Population</th>\n",
       "    </tr>\n",
       "  </thead>\n",
       "  <tbody>\n",
       "    <tr>\n",
       "      <th>0</th>\n",
       "      <td>Afghanistan</td>\n",
       "      <td>1950</td>\n",
       "      <td>8151000</td>\n",
       "    </tr>\n",
       "    <tr>\n",
       "      <th>1</th>\n",
       "      <td>Albania</td>\n",
       "      <td>1950</td>\n",
       "      <td>1228000</td>\n",
       "    </tr>\n",
       "    <tr>\n",
       "      <th>2</th>\n",
       "      <td>Algeria</td>\n",
       "      <td>1950</td>\n",
       "      <td>8893000</td>\n",
       "    </tr>\n",
       "    <tr>\n",
       "      <th>3</th>\n",
       "      <td>Argentina</td>\n",
       "      <td>1950</td>\n",
       "      <td>17161000</td>\n",
       "    </tr>\n",
       "    <tr>\n",
       "      <th>4</th>\n",
       "      <td>Australia</td>\n",
       "      <td>1950</td>\n",
       "      <td>8273000</td>\n",
       "    </tr>\n",
       "  </tbody>\n",
       "</table>\n",
       "</div>"
      ],
      "text/plain": [
       "       Country  Year  Population\n",
       "0  Afghanistan  1950     8151000\n",
       "1      Albania  1950     1228000\n",
       "2      Algeria  1950     8893000\n",
       "3    Argentina  1950    17161000\n",
       "4    Australia  1950     8273000"
      ]
     },
     "execution_count": 3,
     "metadata": {},
     "output_type": "execute_result"
    }
   ],
   "source": [
    ">>> df_long = pd.melt(df_wide, id_vars='Country', var_name='Year', value_name='Population')\n",
    "df_long['Year'] = df_long['Year'].astype(int)\n",
    "df_long['Population'] = df_long['Population'] * 1000  # Convert from thousands to actual values\n",
    "\n",
    "df_long.head()"
   ]
  },
  {
   "cell_type": "markdown",
   "id": "f03d0bc8",
   "metadata": {},
   "source": [
    "Analysis: With a tidy dataset, it is possible to explore population trends over time by plotting population growth for selected countries, comparing populations in a specific year, and identifying countries with the highest growth between 1950 and 1980."
   ]
  },
  {
   "cell_type": "code",
   "execution_count": 4,
   "id": "8229b981",
   "metadata": {},
   "outputs": [
    {
     "data": {
      "image/png": "[encoded data removed]",
      "text/plain": [
       "<Figure size 720x432 with 1 Axes>"
      ]
     },
     "metadata": {
      "needs_background": "light"
     },
     "output_type": "display_data"
    }
   ],
   "source": [
    ">>> import matplotlib.pyplot as plt\n",
    "import seaborn as sns\n",
    "plt.figure(figsize=(10, 6))\n",
    "sns.lineplot(data=df_long, x='Year', y='Population', hue='Country', marker='o')\n",
    "plt.title('Population Growth (1950–1980)')\n",
    "plt.ylabel('Population')\n",
    "plt.xticks([1950, 1960, 1970, 1980])\n",
    "plt.grid(True)\n",
    "plt.tight_layout()\n",
    "plt.show()"
   ]
  },
  {
   "cell_type": "code",
   "execution_count": 5,
   "id": "f83f83b2",
   "metadata": {},
   "outputs": [
    {
     "data": {
      "image/png": "[encoded data removed]",
      "text/plain": [
       "<Figure size 576x360 with 1 Axes>"
      ]
     },
     "metadata": {
      "needs_background": "light"
     },
     "output_type": "display_data"
    }
   ],
   "source": [
    ">>> pop_1980 = df_long[df_long['Year'] == 1980].sort_values(by='Population', ascending=False)\n",
    "plt.figure(figsize=(8, 5))\n",
    "sns.barplot(data=pop_1980, x='Population', y='Country')\n",
    "plt.title('Population by Country in 1980')\n",
    "plt.xlabel('Population')\n",
    "plt.tight_layout()\n",
    "plt.show()"
   ]
  },
  {
   "cell_type": "markdown",
   "id": "acbd75cb",
   "metadata": {},
   "source": [
    "Growth Analysis (1950–1980): By calculating the percentage growth in the population between 1950 and 1980 for each country, and sorting by growth, reveals which countries experienced the most rapid demographic expansion during this period."
   ]
  },
  {
   "cell_type": "code",
   "execution_count": 12,
   "id": "fee0031a",
   "metadata": {},
   "outputs": [],
   "source": [
    ">>> df_pivot = df_long.pivot(index='Country', columns='Year', values='Population')\n",
    "df_pivot.columns = df_pivot.columns.astype(str)\n",
    "df_pivot['Growth (%)'] = ((df_pivot['1980'] - df_pivot['1950']) / df_pivot['1950']) * 100"
   ]
  },
  {
   "cell_type": "code",
   "execution_count": 13,
   "id": "bc86f270",
   "metadata": {},
   "outputs": [
    {
     "data": {
      "text/html": [
       "<div>\n",
       "<style scoped>\n",
       "    .dataframe tbody tr th:only-of-type {\n",
       "        vertical-align: middle;\n",
       "    }\n",
       "\n",
       "    .dataframe tbody tr th {\n",
       "        vertical-align: top;\n",
       "    }\n",
       "\n",
       "    .dataframe thead th {\n",
       "        text-align: right;\n",
       "    }\n",
       "</style>\n",
       "<table border=\"1\" class=\"dataframe\">\n",
       "  <thead>\n",
       "    <tr style=\"text-align: right;\">\n",
       "      <th>Year</th>\n",
       "      <th>Country</th>\n",
       "      <th>1950</th>\n",
       "      <th>1980</th>\n",
       "      <th>Growth (%)</th>\n",
       "    </tr>\n",
       "  </thead>\n",
       "  <tbody>\n",
       "    <tr>\n",
       "      <th>1</th>\n",
       "      <td>Albania</td>\n",
       "      <td>1228000</td>\n",
       "      <td>2672000</td>\n",
       "      <td>117.589577</td>\n",
       "    </tr>\n",
       "    <tr>\n",
       "      <th>2</th>\n",
       "      <td>Algeria</td>\n",
       "      <td>8893000</td>\n",
       "      <td>18807000</td>\n",
       "      <td>111.480940</td>\n",
       "    </tr>\n",
       "    <tr>\n",
       "      <th>0</th>\n",
       "      <td>Afghanistan</td>\n",
       "      <td>8151000</td>\n",
       "      <td>15045000</td>\n",
       "      <td>84.578579</td>\n",
       "    </tr>\n",
       "    <tr>\n",
       "      <th>4</th>\n",
       "      <td>Australia</td>\n",
       "      <td>8273000</td>\n",
       "      <td>14692000</td>\n",
       "      <td>77.589750</td>\n",
       "    </tr>\n",
       "    <tr>\n",
       "      <th>3</th>\n",
       "      <td>Argentina</td>\n",
       "      <td>17161000</td>\n",
       "      <td>28115000</td>\n",
       "      <td>63.830779</td>\n",
       "    </tr>\n",
       "  </tbody>\n",
       "</table>\n",
       "</div>"
      ],
      "text/plain": [
       "Year      Country      1950      1980  Growth (%)\n",
       "1         Albania   1228000   2672000  117.589577\n",
       "2         Algeria   8893000  18807000  111.480940\n",
       "0     Afghanistan   8151000  15045000   84.578579\n",
       "4       Australia   8273000  14692000   77.589750\n",
       "3       Argentina  17161000  28115000   63.830779"
      ]
     },
     "execution_count": 13,
     "metadata": {},
     "output_type": "execute_result"
    }
   ],
   "source": [
    "df_pivot = df_pivot.reset_index()\n",
    "df_pivot = df_pivot.sort_values(by='Growth (%)', ascending=False)\n",
    "df_pivot[['Country', '1950', '1980', 'Growth (%)']]"
   ]
  },
  {
   "cell_type": "markdown",
   "id": "9d19490f",
   "metadata": {},
   "source": [
    "#Conclusion: \n",
    "By reshaping the dataset into a tidy format, it is possible to visualize population growth over time, compare country populations in a specific year and calculate percentage growth from 1950 to 1980. This transformation highlights how tidy data structures make analysis more flexible and powerful. Countries like Algeria and Afghanistan showed rapid growth, while others like Australia had more modest increases. This approach can be extended to larger datasets and longer timeframes for deeper demographic insights.\n"
   ]
  },
  {
   "cell_type": "code",
   "execution_count": null,
   "id": "fe5e7d7a",
   "metadata": {},
   "outputs": [],
   "source": []
  }
 ],
 "metadata": {
  "kernelspec": {
   "display_name": "Python 3",
   "language": "python",
   "name": "python3"
  },
  "language_info": {
   "codemirror_mode": {
    "name": "ipython",
    "version": 3
   },
   "file_extension": ".py",
   "mimetype": "text/x-python",
   "name": "python",
   "nbconvert_exporter": "python",
   "pygments_lexer": "ipython3",
   "version": "3.8.10"
  }
 },
 "nbformat": 4,
 "nbformat_minor": 5
}
