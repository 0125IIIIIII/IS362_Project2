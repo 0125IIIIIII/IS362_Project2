{
 "cells": [
  {
   "cell_type": "markdown",
   "id": "d5a5b055",
   "metadata": {},
   "source": [
    "# ITS Support Team Performance Metrics – Data Reshaping and Analysis                                                                 "
   ]
  },
  {
   "cell_type": "markdown",
   "id": "e6825f6e",
   "metadata": {},
   "source": [
    "Step 1: Import pandas, create expanded wide format data for ITS support teams, save to CSV "
   ]
  },
  {
   "cell_type": "code",
   "execution_count": 1,
   "id": "59c36cd5",
   "metadata": {},
   "outputs": [],
   "source": [
    ">>> import pandas as pd \n",
    "data = {\n",
    "    'Team': ['Network Ops', 'App Support', 'Help Desk', 'Security'],\n",
    "    'Jan_Tickets_Resolved': [320, 210, 450, 180],\n",
    "    'Jan_Avg_Resolution_Time': [2.5, 3.2, 1.8, 4.0],\n",
    "    'Feb_Tickets_Resolved': [300, 230, 470, 190],\n",
    "    'Feb_Avg_Resolution_Time': [2.7, 3.0, 1.7, 3.8],\n",
    "    'Mar_Tickets_Resolved': [310, 220, 460, 200],\n",
    "    'Mar_Avg_Resolution_Time': [2.6, 3.1, 1.9, 3.9]\n",
    "}\n",
    "\n",
    "df_wide = pd.DataFrame(data)\n",
    "\n",
    "df_wide.to_csv(\"ITS_Performance_Wide.csv\", index=False)"
   ]
  },
  {
   "cell_type": "markdown",
   "id": "1c59a753",
   "metadata": {},
   "source": [
    "Step 2: Load and inspect the Dataset "
   ]
  },
  {
   "cell_type": "code",
   "execution_count": 2,
   "id": "3fdaf1cf",
   "metadata": {},
   "outputs": [
    {
     "data": {
      "text/html": [
       "<div>\n",
       "<style scoped>\n",
       "    .dataframe tbody tr th:only-of-type {\n",
       "        vertical-align: middle;\n",
       "    }\n",
       "\n",
       "    .dataframe tbody tr th {\n",
       "        vertical-align: top;\n",
       "    }\n",
       "\n",
       "    .dataframe thead th {\n",
       "        text-align: right;\n",
       "    }\n",
       "</style>\n",
       "<table border=\"1\" class=\"dataframe\">\n",
       "  <thead>\n",
       "    <tr style=\"text-align: right;\">\n",
       "      <th></th>\n",
       "      <th>Team</th>\n",
       "      <th>Jan_Tickets_Resolved</th>\n",
       "      <th>Jan_Avg_Resolution_Time</th>\n",
       "      <th>Feb_Tickets_Resolved</th>\n",
       "      <th>Feb_Avg_Resolution_Time</th>\n",
       "      <th>Mar_Tickets_Resolved</th>\n",
       "      <th>Mar_Avg_Resolution_Time</th>\n",
       "    </tr>\n",
       "  </thead>\n",
       "  <tbody>\n",
       "    <tr>\n",
       "      <th>0</th>\n",
       "      <td>Network Ops</td>\n",
       "      <td>320</td>\n",
       "      <td>2.5</td>\n",
       "      <td>300</td>\n",
       "      <td>2.7</td>\n",
       "      <td>310</td>\n",
       "      <td>2.6</td>\n",
       "    </tr>\n",
       "    <tr>\n",
       "      <th>1</th>\n",
       "      <td>App Support</td>\n",
       "      <td>210</td>\n",
       "      <td>3.2</td>\n",
       "      <td>230</td>\n",
       "      <td>3.0</td>\n",
       "      <td>220</td>\n",
       "      <td>3.1</td>\n",
       "    </tr>\n",
       "    <tr>\n",
       "      <th>2</th>\n",
       "      <td>Help Desk</td>\n",
       "      <td>450</td>\n",
       "      <td>1.8</td>\n",
       "      <td>470</td>\n",
       "      <td>1.7</td>\n",
       "      <td>460</td>\n",
       "      <td>1.9</td>\n",
       "    </tr>\n",
       "    <tr>\n",
       "      <th>3</th>\n",
       "      <td>Security</td>\n",
       "      <td>180</td>\n",
       "      <td>4.0</td>\n",
       "      <td>190</td>\n",
       "      <td>3.8</td>\n",
       "      <td>200</td>\n",
       "      <td>3.9</td>\n",
       "    </tr>\n",
       "  </tbody>\n",
       "</table>\n",
       "</div>"
      ],
      "text/plain": [
       "          Team  Jan_Tickets_Resolved  Jan_Avg_Resolution_Time  \\\n",
       "0  Network Ops                   320                      2.5   \n",
       "1  App Support                   210                      3.2   \n",
       "2    Help Desk                   450                      1.8   \n",
       "3     Security                   180                      4.0   \n",
       "\n",
       "   Feb_Tickets_Resolved  Feb_Avg_Resolution_Time  Mar_Tickets_Resolved  \\\n",
       "0                   300                      2.7                   310   \n",
       "1                   230                      3.0                   220   \n",
       "2                   470                      1.7                   460   \n",
       "3                   190                      3.8                   200   \n",
       "\n",
       "   Mar_Avg_Resolution_Time  \n",
       "0                      2.6  \n",
       "1                      3.1  \n",
       "2                      1.9  \n",
       "3                      3.9  "
      ]
     },
     "execution_count": 2,
     "metadata": {},
     "output_type": "execute_result"
    }
   ],
   "source": [
    ">>> df_loaded = pd.read_csv(\"ITS_Performance_Wide.csv\")\n",
    "\n",
    "df_loaded.head()"
   ]
  },
  {
   "cell_type": "markdown",
   "id": "a4b7bbf1",
   "metadata": {},
   "source": [
    "Step 3: Tidying and reshaping the data: split 'Metric_Month' into 'Month' and 'Metric', pivot to get separate columns for each metric, and rename columns for clarity"
   ]
  },
  {
   "cell_type": "code",
   "execution_count": 3,
   "id": "f14cf722",
   "metadata": {
    "scrolled": true
   },
   "outputs": [
    {
     "data": {
      "text/html": [
       "<div>\n",
       "<style scoped>\n",
       "    .dataframe tbody tr th:only-of-type {\n",
       "        vertical-align: middle;\n",
       "    }\n",
       "\n",
       "    .dataframe tbody tr th {\n",
       "        vertical-align: top;\n",
       "    }\n",
       "\n",
       "    .dataframe thead th {\n",
       "        text-align: right;\n",
       "    }\n",
       "</style>\n",
       "<table border=\"1\" class=\"dataframe\">\n",
       "  <thead>\n",
       "    <tr style=\"text-align: right;\">\n",
       "      <th></th>\n",
       "      <th>Team</th>\n",
       "      <th>Month</th>\n",
       "      <th>Resolved</th>\n",
       "      <th>Time</th>\n",
       "    </tr>\n",
       "  </thead>\n",
       "  <tbody>\n",
       "    <tr>\n",
       "      <th>0</th>\n",
       "      <td>App Support</td>\n",
       "      <td>Feb_Avg_Resolution</td>\n",
       "      <td>NaN</td>\n",
       "      <td>3.0</td>\n",
       "    </tr>\n",
       "    <tr>\n",
       "      <th>1</th>\n",
       "      <td>App Support</td>\n",
       "      <td>Feb_Tickets</td>\n",
       "      <td>230.0</td>\n",
       "      <td>NaN</td>\n",
       "    </tr>\n",
       "    <tr>\n",
       "      <th>2</th>\n",
       "      <td>App Support</td>\n",
       "      <td>Jan_Avg_Resolution</td>\n",
       "      <td>NaN</td>\n",
       "      <td>3.2</td>\n",
       "    </tr>\n",
       "    <tr>\n",
       "      <th>3</th>\n",
       "      <td>App Support</td>\n",
       "      <td>Jan_Tickets</td>\n",
       "      <td>210.0</td>\n",
       "      <td>NaN</td>\n",
       "    </tr>\n",
       "    <tr>\n",
       "      <th>4</th>\n",
       "      <td>App Support</td>\n",
       "      <td>Mar_Avg_Resolution</td>\n",
       "      <td>NaN</td>\n",
       "      <td>3.1</td>\n",
       "    </tr>\n",
       "  </tbody>\n",
       "</table>\n",
       "</div>"
      ],
      "text/plain": [
       "          Team               Month  Resolved  Time\n",
       "0  App Support  Feb_Avg_Resolution       NaN   3.0\n",
       "1  App Support         Feb_Tickets     230.0   NaN\n",
       "2  App Support  Jan_Avg_Resolution       NaN   3.2\n",
       "3  App Support         Jan_Tickets     210.0   NaN\n",
       "4  App Support  Mar_Avg_Resolution       NaN   3.1"
      ]
     },
     "execution_count": 3,
     "metadata": {},
     "output_type": "execute_result"
    }
   ],
   "source": [
    ">>> df_long = pd.melt(\n",
    "    df_loaded,\n",
    "    id_vars=['Team'],\n",
    "    var_name='Metric_Month',\n",
    "    value_name='Value'\n",
    ")\n",
    "\n",
    "df_long[['Month', 'Metric']] = df_long['Metric_Month'].str.extract(r'(\\w+)_([\\w\\s]+)')\n",
    "\n",
    "df_tidy = df_long.pivot_table(\n",
    "    index=['Team', 'Month'],\n",
    "    columns='Metric',\n",
    "    values='Value'\n",
    ").reset_index()\n",
    "\n",
    "df_tidy.columns.name = None\n",
    "df_tidy.rename(columns={\n",
    "    'Tickets_Resolved': 'Tickets Resolved',\n",
    "    'Avg_Resolution_Time': 'Avg Resolution Time'\n",
    "}, inplace=True)\n",
    "\n",
    "df_tidy.head()"
   ]
  },
  {
   "cell_type": "markdown",
   "id": "f45bb2cc",
   "metadata": {},
   "source": [
    "#Analysis:\n",
    "This notebook demonstrates the transformation of a wide-format ITS support dataset into a tidy long format suitable for analysis. The original data, scraped from internal dashboards, stored monthly metrics in separate columns. Using pandas.melt and pivot_table, the data was reshaped to align with tidy data principles, where each variable in its own column, each observation in its own row. This analysis revealed that Help Desk consistently resolved the highest number of tickets across all months, while Security had the longest average resolution times. These insights can inform staffing decisions and highlight areas for process improvement. Incident severity and escalation metrics can be integrated, and April to June data can be added for seasonal trend analysis.                                                                                                                                                                 "
   ]
  },
  {
   "cell_type": "code",
   "execution_count": null,
   "id": "e1624cdb",
   "metadata": {},
   "outputs": [],
   "source": []
  }
 ],
 "metadata": {
  "kernelspec": {
   "display_name": "Python 3",
   "language": "python",
   "name": "python3"
  },
  "language_info": {
   "codemirror_mode": {
    "name": "ipython",
    "version": 3
   },
   "file_extension": ".py",
   "mimetype": "text/x-python",
   "name": "python",
   "nbconvert_exporter": "python",
   "pygments_lexer": "ipython3",
   "version": "3.8.10"
  }
 },
 "nbformat": 4,
 "nbformat_minor": 5
}
