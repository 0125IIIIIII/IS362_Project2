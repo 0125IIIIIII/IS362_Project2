{
 "cells": [
  {
   "cell_type": "markdown",
   "id": "a4402684",
   "metadata": {},
   "source": [
    "#  Olympic Medal Leaders by Olympiad (Summer Games)\n",
    "This notebook analyzes the top medalists from each Summer Olympic Games using data from Wikipedia. The original dataset is structured in a wide format, with each Olympiad as a column; reshaped into a tidy format to enable filtering, grouping, and visualization of medal trends."
   ]
  },
  {
   "cell_type": "markdown",
   "id": "b0aa433d",
   "metadata": {},
   "source": [
    "Step 1: Import pandas using sample data from the Wikipedia table, create wide format dataframe, and save in csv format.                          "
   ]
  },
  {
   "cell_type": "code",
   "execution_count": 1,
   "id": "d3ffbb6c",
   "metadata": {},
   "outputs": [
    {
     "data": {
      "text/html": [
       "<div>\n",
       "<style scoped>\n",
       "    .dataframe tbody tr th:only-of-type {\n",
       "        vertical-align: middle;\n",
       "    }\n",
       "\n",
       "    .dataframe tbody tr th {\n",
       "        vertical-align: top;\n",
       "    }\n",
       "\n",
       "    .dataframe thead th {\n",
       "        text-align: right;\n",
       "    }\n",
       "</style>\n",
       "<table border=\"1\" class=\"dataframe\">\n",
       "  <thead>\n",
       "    <tr style=\"text-align: right;\">\n",
       "      <th></th>\n",
       "      <th>Olympiad</th>\n",
       "      <th>Top_Medalist</th>\n",
       "      <th>Most_Golds</th>\n",
       "    </tr>\n",
       "  </thead>\n",
       "  <tbody>\n",
       "    <tr>\n",
       "      <th>0</th>\n",
       "      <td>1896 Athens</td>\n",
       "      <td>Hermann Weingärtner (GER) (3–2–1)</td>\n",
       "      <td>Carl Schuhmann (GER) (4–0–0)</td>\n",
       "    </tr>\n",
       "    <tr>\n",
       "      <th>1</th>\n",
       "      <td>1900 Paris</td>\n",
       "      <td>Alvin Kraenzlein (USA) (4–0–0)</td>\n",
       "      <td>Alvin Kraenzlein (USA) (4–0–0)</td>\n",
       "    </tr>\n",
       "    <tr>\n",
       "      <th>2</th>\n",
       "      <td>1904 St. Louis</td>\n",
       "      <td>Anton Heida (USA) (5–1–0)</td>\n",
       "      <td>Anton Heida (USA) (5–1–0)</td>\n",
       "    </tr>\n",
       "    <tr>\n",
       "      <th>3</th>\n",
       "      <td>1908 London</td>\n",
       "      <td>Mel Sheppard (USA) (3–0–0)</td>\n",
       "      <td>Mel Sheppard (USA) (3–0–0)</td>\n",
       "    </tr>\n",
       "    <tr>\n",
       "      <th>4</th>\n",
       "      <td>1912 Stockholm</td>\n",
       "      <td>Vilhelm Carlberg (SWE) (3–2–0)</td>\n",
       "      <td>Vilhelm Carlberg (SWE) (3–2–0)</td>\n",
       "    </tr>\n",
       "    <tr>\n",
       "      <th>5</th>\n",
       "      <td>1920 Antwerp</td>\n",
       "      <td>Willis Lee (USA) (5–1–1)</td>\n",
       "      <td>Nedo Nadi (ITA) (5–0–0)</td>\n",
       "    </tr>\n",
       "  </tbody>\n",
       "</table>\n",
       "</div>"
      ],
      "text/plain": [
       "         Olympiad                       Top_Medalist  \\\n",
       "0     1896 Athens  Hermann Weingärtner (GER) (3–2–1)   \n",
       "1      1900 Paris     Alvin Kraenzlein (USA) (4–0–0)   \n",
       "2  1904 St. Louis          Anton Heida (USA) (5–1–0)   \n",
       "3     1908 London         Mel Sheppard (USA) (3–0–0)   \n",
       "4  1912 Stockholm     Vilhelm Carlberg (SWE) (3–2–0)   \n",
       "5    1920 Antwerp           Willis Lee (USA) (5–1–1)   \n",
       "\n",
       "                       Most_Golds  \n",
       "0    Carl Schuhmann (GER) (4–0–0)  \n",
       "1  Alvin Kraenzlein (USA) (4–0–0)  \n",
       "2       Anton Heida (USA) (5–1–0)  \n",
       "3      Mel Sheppard (USA) (3–0–0)  \n",
       "4  Vilhelm Carlberg (SWE) (3–2–0)  \n",
       "5         Nedo Nadi (ITA) (5–0–0)  "
      ]
     },
     "execution_count": 1,
     "metadata": {},
     "output_type": "execute_result"
    }
   ],
   "source": [
    ">>> import pandas as pd\n",
    "data = {\n",
    "    'Olympiad': ['1896 Athens', '1900 Paris', '1904 St. Louis', '1908 London', '1912 Stockholm', '1920 Antwerp'],\n",
    "    'Top_Medalist': [\n",
    "        'Hermann Weingärtner (GER) (3–2–1)',\n",
    "        'Alvin Kraenzlein (USA) (4–0–0)',\n",
    "        'Anton Heida (USA) (5–1–0)',\n",
    "        'Mel Sheppard (USA) (3–0–0)',\n",
    "        'Vilhelm Carlberg (SWE) (3–2–0)',\n",
    "        'Willis Lee (USA) (5–1–1)'\n",
    "    ],\n",
    "    'Most_Golds': [\n",
    "        'Carl Schuhmann (GER) (4–0–0)',\n",
    "        'Alvin Kraenzlein (USA) (4–0–0)',\n",
    "        'Anton Heida (USA) (5–1–0)',\n",
    "        'Mel Sheppard (USA) (3–0–0)',\n",
    "        'Vilhelm Carlberg (SWE) (3–2–0)',\n",
    "        'Nedo Nadi (ITA) (5–0–0)'\n",
    "    ]\n",
    "}\n",
    "\n",
    "df_wide = pd.DataFrame(data)\n",
    "\n",
    "df_wide.to_csv('olympic_medalists_by_olympiad.csv', index=False)\n",
    "\n",
    "df_wide"
   ]
  },
  {
   "cell_type": "markdown",
   "id": "5742a93c",
   "metadata": {},
   "source": [
    "#Data cleanup and transformation: The original dataset is in a wide format, with each Olympiad as a row and medalist details embedded in strings. Data reshaped into a tidy format to extract gold, silver, and bronze counts for analysis."
   ]
  },
  {
   "cell_type": "markdown",
   "id": "ad89e215",
   "metadata": {},
   "source": [
    "Step 2: Load the csv, extract year and location, parse medal counts and convert year to integer"
   ]
  },
  {
   "cell_type": "code",
   "execution_count": 2,
   "id": "6cdb92ff",
   "metadata": {},
   "outputs": [
    {
     "data": {
      "text/html": [
       "<div>\n",
       "<style scoped>\n",
       "    .dataframe tbody tr th:only-of-type {\n",
       "        vertical-align: middle;\n",
       "    }\n",
       "\n",
       "    .dataframe tbody tr th {\n",
       "        vertical-align: top;\n",
       "    }\n",
       "\n",
       "    .dataframe thead th {\n",
       "        text-align: right;\n",
       "    }\n",
       "</style>\n",
       "<table border=\"1\" class=\"dataframe\">\n",
       "  <thead>\n",
       "    <tr style=\"text-align: right;\">\n",
       "      <th></th>\n",
       "      <th>Olympiad</th>\n",
       "      <th>Top_Medalist</th>\n",
       "      <th>Most_Golds</th>\n",
       "      <th>Year</th>\n",
       "      <th>Host</th>\n",
       "      <th>Golds</th>\n",
       "      <th>Silvers</th>\n",
       "      <th>Bronzes</th>\n",
       "    </tr>\n",
       "  </thead>\n",
       "  <tbody>\n",
       "    <tr>\n",
       "      <th>0</th>\n",
       "      <td>1896 Athens</td>\n",
       "      <td>Hermann Weingärtner (GER) (3–2–1)</td>\n",
       "      <td>Carl Schuhmann (GER) (4–0–0)</td>\n",
       "      <td>1896</td>\n",
       "      <td>Athens</td>\n",
       "      <td>3</td>\n",
       "      <td>2</td>\n",
       "      <td>1</td>\n",
       "    </tr>\n",
       "    <tr>\n",
       "      <th>1</th>\n",
       "      <td>1900 Paris</td>\n",
       "      <td>Alvin Kraenzlein (USA) (4–0–0)</td>\n",
       "      <td>Alvin Kraenzlein (USA) (4–0–0)</td>\n",
       "      <td>1900</td>\n",
       "      <td>Paris</td>\n",
       "      <td>4</td>\n",
       "      <td>0</td>\n",
       "      <td>0</td>\n",
       "    </tr>\n",
       "    <tr>\n",
       "      <th>2</th>\n",
       "      <td>1904 St. Louis</td>\n",
       "      <td>Anton Heida (USA) (5–1–0)</td>\n",
       "      <td>Anton Heida (USA) (5–1–0)</td>\n",
       "      <td>1904</td>\n",
       "      <td>St. Louis</td>\n",
       "      <td>5</td>\n",
       "      <td>1</td>\n",
       "      <td>0</td>\n",
       "    </tr>\n",
       "    <tr>\n",
       "      <th>3</th>\n",
       "      <td>1908 London</td>\n",
       "      <td>Mel Sheppard (USA) (3–0–0)</td>\n",
       "      <td>Mel Sheppard (USA) (3–0–0)</td>\n",
       "      <td>1908</td>\n",
       "      <td>London</td>\n",
       "      <td>3</td>\n",
       "      <td>0</td>\n",
       "      <td>0</td>\n",
       "    </tr>\n",
       "    <tr>\n",
       "      <th>4</th>\n",
       "      <td>1912 Stockholm</td>\n",
       "      <td>Vilhelm Carlberg (SWE) (3–2–0)</td>\n",
       "      <td>Vilhelm Carlberg (SWE) (3–2–0)</td>\n",
       "      <td>1912</td>\n",
       "      <td>Stockholm</td>\n",
       "      <td>3</td>\n",
       "      <td>2</td>\n",
       "      <td>0</td>\n",
       "    </tr>\n",
       "  </tbody>\n",
       "</table>\n",
       "</div>"
      ],
      "text/plain": [
       "         Olympiad                       Top_Medalist  \\\n",
       "0     1896 Athens  Hermann Weingärtner (GER) (3–2–1)   \n",
       "1      1900 Paris     Alvin Kraenzlein (USA) (4–0–0)   \n",
       "2  1904 St. Louis          Anton Heida (USA) (5–1–0)   \n",
       "3     1908 London         Mel Sheppard (USA) (3–0–0)   \n",
       "4  1912 Stockholm     Vilhelm Carlberg (SWE) (3–2–0)   \n",
       "\n",
       "                       Most_Golds  Year       Host  Golds  Silvers  Bronzes  \n",
       "0    Carl Schuhmann (GER) (4–0–0)  1896     Athens      3        2        1  \n",
       "1  Alvin Kraenzlein (USA) (4–0–0)  1900      Paris      4        0        0  \n",
       "2       Anton Heida (USA) (5–1–0)  1904  St. Louis      5        1        0  \n",
       "3      Mel Sheppard (USA) (3–0–0)  1908     London      3        0        0  \n",
       "4  Vilhelm Carlberg (SWE) (3–2–0)  1912  Stockholm      3        2        0  "
      ]
     },
     "execution_count": 2,
     "metadata": {},
     "output_type": "execute_result"
    }
   ],
   "source": [
    ">>> df = pd.read_csv('olympic_medalists_by_olympiad.csv')\n",
    "df[['Year', 'Host']] = df['Olympiad'].str.extract(r'(\\d{4})\\s+(.*)')\n",
    "def parse_medals(s):\n",
    "    if pd.isna(s): return [None, None, None]\n",
    "    parts = s.split('(')[-1].strip(')').split('–')\n",
    "    return [int(p) if p.isdigit() else None for p in parts]\n",
    "df[['Golds', 'Silvers', 'Bronzes']] = df['Top_Medalist'].apply(parse_medals).tolist()\n",
    "df['Year'] = df['Year'].astype(int)\n",
    "df.head()"
   ]
  },
  {
   "cell_type": "markdown",
   "id": "03b6ae42",
   "metadata": {},
   "source": [
    "#Analisys: With the tidy dataset, it is possible to explore which Olympiads had the highest individual medal counts, trends in gold medal dominance, and the distribution of medals over time."
   ]
  },
  {
   "cell_type": "markdown",
   "id": "e6984d84",
   "metadata": {},
   "source": [
    "Step 3: Import matplotlib, line plot of gold medals over time, calculate total medals and bar chart total medals.                          "
   ]
  },
  {
   "cell_type": "code",
   "execution_count": 3,
   "id": "79dcea59",
   "metadata": {},
   "outputs": [
    {
     "data": {
      "image/png": "[encoded data removed]",
      "text/plain": [
       "<Figure size 720x432 with 1 Axes>"
      ]
     },
     "metadata": {
      "needs_background": "light"
     },
     "output_type": "display_data"
    }
   ],
   "source": [
    ">>> import matplotlib.pyplot as plt\n",
    "import seaborn as sns\n",
    "plt.figure(figsize=(10, 6))\n",
    "sns.lineplot(data=df, x='Year', y='Golds', marker='o')\n",
    "plt.title('Gold Medals by Top Medalist Over Time')\n",
    "plt.ylabel('Gold Medals')\n",
    "plt.grid(True)\n",
    "plt.tight_layout()\n",
    "plt.show()"
   ]
  },
  {
   "cell_type": "code",
   "execution_count": 4,
   "id": "4d3acc30",
   "metadata": {},
   "outputs": [
    {
     "data": {
      "image/png": "[encoded data removed]",
      "text/plain": [
       "<Figure size 720x432 with 1 Axes>"
      ]
     },
     "metadata": {
      "needs_background": "light"
     },
     "output_type": "display_data"
    }
   ],
   "source": [
    ">>> df['Total_Medals'] = df[['Golds', 'Silvers', 'Bronzes']].sum(axis=1)\n",
    "plt.figure(figsize=(10, 6))\n",
    "sns.barplot(data=df, x='Year', y='Total_Medals')\n",
    "plt.title('Total Medals by Top Medalist per Olympiad')\n",
    "plt.ylabel('Total Medals')\n",
    "plt.xticks(rotation=45)\n",
    "plt.tight_layout()\n",
    "plt.show()"
   ]
  },
  {
   "cell_type": "markdown",
   "id": "bb99c86d",
   "metadata": {},
   "source": [
    "#Conclusion: By tidying the dataset and extracting medal counts, it revealed trends in individual Olympic performance across Summer Games. Medal dominance varies by era, with standout athletes like Anton Heida and Willis Lee leading their Olympiads. Further analysis could be expanded by by sport, country, or gender. For instance, merge athlete nationality and sport data, compare top medalists across multiple Olympiads, extend to include Winter Games or team-based medal counts. "
   ]
  },
  {
   "cell_type": "code",
   "execution_count": null,
   "id": "af9d2650",
   "metadata": {},
   "outputs": [],
   "source": []
  }
 ],
 "metadata": {
  "kernelspec": {
   "display_name": "Python 3",
   "language": "python",
   "name": "python3"
  },
  "language_info": {
   "codemirror_mode": {
    "name": "ipython",
    "version": 3
   },
   "file_extension": ".py",
   "mimetype": "text/x-python",
   "name": "python",
   "nbconvert_exporter": "python",
   "pygments_lexer": "ipython3",
   "version": "3.8.10"
  }
 },
 "nbformat": 4,
 "nbformat_minor": 5
}
